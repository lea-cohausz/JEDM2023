{
 "cells": [
  {
   "cell_type": "code",
   "execution_count": 1,
   "id": "955f54f7",
   "metadata": {},
   "outputs": [
    {
     "name": "stderr",
     "output_type": "stream",
     "text": [
      "C:\\Users\\AndrejTschalzev\\anaconda3\\lib\\site-packages\\scipy\\__init__.py:146: UserWarning: A NumPy version >=1.16.5 and <1.23.0 is required for this version of SciPy (detected version 1.23.5\n",
      "  warnings.warn(f\"A NumPy version >={np_minversion} and <{np_maxversion}\"\n"
     ]
    }
   ],
   "source": [
    "import sys\n",
    "sys.path.append(\"..\")\n",
    "sys.path.append(\"../lmmnn/\")\n",
    "\n",
    "from utils.training_functions import *\n",
    "from utils.evaluation import *\n",
    "from data import dataset_preprocessing\n",
    "\n",
    "import pickle\n",
    "\n",
    "RS = 42"
   ]
  },
  {
   "cell_type": "markdown",
   "id": "a2ae51df",
   "metadata": {},
   "source": [
    "#### Download and save data from Pargent et al. by running \"data/download_pargent2022_datasets.py before running this notebook"
   ]
  },
  {
   "cell_type": "code",
   "execution_count": 2,
   "id": "f5cc6a91",
   "metadata": {},
   "outputs": [],
   "source": [
    "dataset_name = \"hussain\"\n",
    "mode=\"train_val_test\"\n",
    "RS=42\n",
    "hct=10\n",
    "test_ratio=0.2\n",
    "val_ratio=0.1\n",
    "folds=None\n",
    "target = \"continuous\"\n",
    "\n",
    "data_path = f\"{mode}_RS{RS}_hct{hct}\"\n",
    "if mode == \"cv\":\n",
    "    data_path += f\"_{folds}folds\"\n",
    "elif mode == \"train_test\":\n",
    "    data_path += f\"_split{1-test_ratio*100}-{test_ratio*100}\"\n",
    "elif mode == \"train_val_test\":\n",
    "    data_path += f\"_split{round(100-(test_ratio+val_ratio)*100)}-{round(test_ratio*100)}-{round(val_ratio*100)}\"\n",
    "\n",
    "\n",
    "# If no data_dict for the configuration exists, run preprocessing, else load data_dict\n",
    "if not os.path.exists(f\"../data/prepared/{dataset_name}/\"+data_path+\"/data_dict.pickle\"):\n",
    "    dataset_preprocessing.process_dataset(dataset_name, target, mode, RS, hct, test_ratio, val_ratio, folds)\n",
    "with open(f\"../data/prepared/{dataset_name}/{data_path}/data_dict.pickle\", 'rb') as handle:\n",
    "        data_dict = pickle.load(handle)\n"
   ]
  },
  {
   "cell_type": "code",
   "execution_count": 3,
   "id": "c17cb615",
   "metadata": {},
   "outputs": [],
   "source": [
    "z_ohe_encoded_train = data_dict[\"z_ohe_encoded_train\"] \n",
    "z_ohe_encoded_val = data_dict[\"z_ohe_encoded_val\"] \n",
    "z_ohe_encoded_test = data_dict[\"z_ohe_encoded_test\"] \n",
    "\n",
    "z_target_encoded_train = data_dict[\"z_target_encoded_train\"] \n",
    "z_target_encoded_val = data_dict[\"z_target_encoded_val\"] \n",
    "z_target_encoded_test = data_dict[\"z_target_encoded_test\"] \n",
    "\n",
    "X_train = data_dict[\"X_train\"]\n",
    "Z_train = data_dict[\"Z_train\"]\n",
    "y_train = data_dict[\"y_train\"]\n",
    "\n",
    "X_val = data_dict[\"X_val\"]\n",
    "Z_val = data_dict[\"Z_val\"]\n",
    "y_val = data_dict[\"y_val\"]\n",
    "\n",
    "X_test = data_dict[\"X_test\"]\n",
    "Z_test = data_dict[\"Z_test\"]\n",
    "y_test = data_dict[\"y_test\"]\n",
    "\n",
    "z_cols = data_dict[\"z_cols\"]\n",
    "\n",
    "perf_cols = [i for i in X_train.columns if (\"tnp\" in i or \"tfp\" in i or \"iap\" in i)]\n"
   ]
  },
  {
   "cell_type": "markdown",
   "id": "7bc73d83",
   "metadata": {},
   "source": [
    "### Correlations to target"
   ]
  },
  {
   "cell_type": "code",
   "execution_count": 4,
   "id": "afee87bf",
   "metadata": {},
   "outputs": [
    {
     "data": {
      "text/html": [
       "<div>\n",
       "<style scoped>\n",
       "    .dataframe tbody tr th:only-of-type {\n",
       "        vertical-align: middle;\n",
       "    }\n",
       "\n",
       "    .dataframe tbody tr th {\n",
       "        vertical-align: top;\n",
       "    }\n",
       "\n",
       "    .dataframe thead th {\n",
       "        text-align: right;\n",
       "    }\n",
       "</style>\n",
       "<table border=\"1\" class=\"dataframe\">\n",
       "  <thead>\n",
       "    <tr style=\"text-align: right;\">\n",
       "      <th></th>\n",
       "      <th>target</th>\n",
       "    </tr>\n",
       "  </thead>\n",
       "  <tbody>\n",
       "    <tr>\n",
       "      <th>ge</th>\n",
       "      <td>-0.053981</td>\n",
       "    </tr>\n",
       "    <tr>\n",
       "      <th>arr</th>\n",
       "      <td>-0.413169</td>\n",
       "    </tr>\n",
       "    <tr>\n",
       "      <th>ls</th>\n",
       "      <td>-0.105440</td>\n",
       "    </tr>\n",
       "    <tr>\n",
       "      <th>as</th>\n",
       "      <td>0.410070</td>\n",
       "    </tr>\n",
       "    <tr>\n",
       "      <th>ss</th>\n",
       "      <td>0.289782</td>\n",
       "    </tr>\n",
       "    <tr>\n",
       "      <th>...</th>\n",
       "      <td>...</td>\n",
       "    </tr>\n",
       "    <tr>\n",
       "      <th>fq_5</th>\n",
       "      <td>-0.217124</td>\n",
       "    </tr>\n",
       "    <tr>\n",
       "      <th>sh_0</th>\n",
       "      <td>-0.154293</td>\n",
       "    </tr>\n",
       "    <tr>\n",
       "      <th>sh_1</th>\n",
       "      <td>0.276475</td>\n",
       "    </tr>\n",
       "    <tr>\n",
       "      <th>sh_2</th>\n",
       "      <td>-0.051303</td>\n",
       "    </tr>\n",
       "    <tr>\n",
       "      <th>target</th>\n",
       "      <td>1.000000</td>\n",
       "    </tr>\n",
       "  </tbody>\n",
       "</table>\n",
       "<p>68 rows × 1 columns</p>\n",
       "</div>"
      ],
      "text/plain": [
       "          target\n",
       "ge     -0.053981\n",
       "arr    -0.413169\n",
       "ls     -0.105440\n",
       "as      0.410070\n",
       "ss      0.289782\n",
       "...          ...\n",
       "fq_5   -0.217124\n",
       "sh_0   -0.154293\n",
       "sh_1    0.276475\n",
       "sh_2   -0.051303\n",
       "target  1.000000\n",
       "\n",
       "[68 rows x 1 columns]"
      ]
     },
     "execution_count": 4,
     "metadata": {},
     "output_type": "execute_result"
    }
   ],
   "source": [
    "pd.DataFrame(pd.concat([X_train,pd.Series(y_train,index=X_train.index,name=\"target\")],axis=1).corr()[\"target\"])"
   ]
  },
  {
   "cell_type": "code",
   "execution_count": 5,
   "id": "953c472f",
   "metadata": {},
   "outputs": [
    {
     "data": {
      "text/html": [
       "<div>\n",
       "<style scoped>\n",
       "    .dataframe tbody tr th:only-of-type {\n",
       "        vertical-align: middle;\n",
       "    }\n",
       "\n",
       "    .dataframe tbody tr th {\n",
       "        vertical-align: top;\n",
       "    }\n",
       "\n",
       "    .dataframe thead th {\n",
       "        text-align: right;\n",
       "    }\n",
       "</style>\n",
       "<table border=\"1\" class=\"dataframe\">\n",
       "  <thead>\n",
       "    <tr style=\"text-align: right;\">\n",
       "      <th></th>\n",
       "      <th>target</th>\n",
       "    </tr>\n",
       "  </thead>\n",
       "  <tbody>\n",
       "    <tr>\n",
       "      <th>tnp_0</th>\n",
       "      <td>0.298173</td>\n",
       "    </tr>\n",
       "    <tr>\n",
       "      <th>tnp_1</th>\n",
       "      <td>-0.301747</td>\n",
       "    </tr>\n",
       "    <tr>\n",
       "      <th>tnp_2</th>\n",
       "      <td>-0.394062</td>\n",
       "    </tr>\n",
       "    <tr>\n",
       "      <th>tnp_3</th>\n",
       "      <td>0.507698</td>\n",
       "    </tr>\n",
       "    <tr>\n",
       "      <th>iap_0</th>\n",
       "      <td>0.451054</td>\n",
       "    </tr>\n",
       "    <tr>\n",
       "      <th>iap_1</th>\n",
       "      <td>-0.322819</td>\n",
       "    </tr>\n",
       "    <tr>\n",
       "      <th>iap_2</th>\n",
       "      <td>-0.275187</td>\n",
       "    </tr>\n",
       "    <tr>\n",
       "      <th>iap_3</th>\n",
       "      <td>0.224444</td>\n",
       "    </tr>\n",
       "    <tr>\n",
       "      <th>target</th>\n",
       "      <td>1.000000</td>\n",
       "    </tr>\n",
       "  </tbody>\n",
       "</table>\n",
       "</div>"
      ],
      "text/plain": [
       "          target\n",
       "tnp_0   0.298173\n",
       "tnp_1  -0.301747\n",
       "tnp_2  -0.394062\n",
       "tnp_3   0.507698\n",
       "iap_0   0.451054\n",
       "iap_1  -0.322819\n",
       "iap_2  -0.275187\n",
       "iap_3   0.224444\n",
       "target  1.000000"
      ]
     },
     "execution_count": 5,
     "metadata": {},
     "output_type": "execute_result"
    }
   ],
   "source": [
    "# Prev. performance features\n",
    "pd.DataFrame(pd.concat([X_train[perf_cols],pd.Series(y_train,index=X_train.index,name=\"target\")],axis=1).corr()[\"target\"])"
   ]
  },
  {
   "cell_type": "code",
   "execution_count": 6,
   "id": "7472f105",
   "metadata": {},
   "outputs": [],
   "source": [
    "config = {\n",
    "    # General Parameters\n",
    "    \"general_parameters\": {\n",
    "        \"target\": \"continuous\",\n",
    "        \"metrics\": [\"mse\", \"r2\"],\n",
    "        \"model_name\": \"tabtransformer\",\n",
    "                             },\n",
    "\n",
    "    # NN Parameters\n",
    "    \"nn_parameters\": {\"epochs\": 200,\n",
    "                      \"batch_size\":  100,\n",
    "                      \"patience\": 5,\n",
    "                      \"stop_metric\": \"val_mse\"},\n",
    "    \n",
    "    \"embed_parameters\":\n",
    "        {\"embed_dims_method\": \"sqrt\"}\n",
    "     \n",
    "\n",
    "        }"
   ]
  },
  {
   "cell_type": "code",
   "execution_count": 7,
   "id": "174edfd8",
   "metadata": {},
   "outputs": [],
   "source": [
    "train_data = [X_train, Z_train, y_train, z_ohe_encoded_train, z_target_encoded_train]\n",
    "val_data = [X_val, Z_val, y_val, z_ohe_encoded_val, z_target_encoded_val]\n",
    "test_data = [X_test, Z_test, y_test, z_ohe_encoded_test, z_target_encoded_test]\n"
   ]
  },
  {
   "cell_type": "code",
   "execution_count": 15,
   "id": "5a8ecb69",
   "metadata": {},
   "outputs": [],
   "source": [
    "X_train_perfonly = X_train[perf_cols]\n",
    "X_val_perfonly = X_val[perf_cols]\n",
    "X_test_perfonly = X_test[perf_cols]\n",
    "\n",
    "z_target_encoded_train_perfonly = z_target_encoded_train\n",
    "z_target_encoded_val_perfonly = z_target_encoded_val\n",
    "z_target_encoded_test_perfonly = z_target_encoded_test\n",
    "\n",
    "z_ohe_encoded_train_perfonly = z_ohe_encoded_train\n",
    "z_ohe_encoded_val_perfonly = z_ohe_encoded_val\n",
    "z_ohe_encoded_test_perfonly = z_ohe_encoded_test\n",
    "\n",
    "Z_train_perfonly = Z_train\n",
    "Z_val_perfonly = Z_val\n",
    "Z_test_perfonly = Z_test\n",
    "\n",
    "train_data_perfonly = [X_train_perfonly, Z_train_perfonly, y_train, z_ohe_encoded_train_perfonly, z_target_encoded_train_perfonly]\n",
    "val_data_perfonly = [X_val_perfonly, Z_val_perfonly, y_val, z_ohe_encoded_val_perfonly, z_target_encoded_val_perfonly]\n",
    "test_data_perfonly = [X_test_perfonly, Z_test_perfonly, y_test, z_ohe_encoded_test_perfonly, z_target_encoded_test_perfonly]\n"
   ]
  },
  {
   "cell_type": "code",
   "execution_count": null,
   "id": "e455137d",
   "metadata": {},
   "outputs": [],
   "source": []
  },
  {
   "cell_type": "code",
   "execution_count": 9,
   "id": "bc637337",
   "metadata": {},
   "outputs": [],
   "source": [
    "X_train_noperf = X_train.drop(perf_cols,axis=1)\n",
    "X_val_noperf = X_val.drop(perf_cols, axis=1)\n",
    "X_test_noperf = X_test.drop(perf_cols,axis=1)\n",
    "\n",
    "train_data_noperf = [X_train_noperf, Z_train, y_train, z_ohe_encoded_train, z_target_encoded_train]\n",
    "val_data_noperf = [X_val_noperf, Z_val, y_val, z_ohe_encoded_val, z_target_encoded_val]\n",
    "test_data_noperf = [X_test_noperf, Z_test, y_test, z_ohe_encoded_test, z_target_encoded_test]\n"
   ]
  },
  {
   "cell_type": "markdown",
   "id": "85f558b6",
   "metadata": {},
   "source": [
    "## Train the models to evaluate"
   ]
  },
  {
   "cell_type": "code",
   "execution_count": 11,
   "id": "f81f0c77",
   "metadata": {
    "scrolled": true
   },
   "outputs": [
    {
     "name": "stdout",
     "output_type": "stream",
     "text": [
      "Load base model\n",
      "Train XGBoost without z features\n",
      "Train Linear Model without z features\n",
      "Train NN without Z features\n",
      "WARNING:tensorflow:Compiled the loaded model, but the compiled metrics have yet to be built. `model.compile_metrics` will be empty until you train or evaluate the model.\n",
      "WARNING:tensorflow:No training configuration found in the save file, so the model was *not* compiled. Compile it manually.\n",
      "Epoch 1/200\n",
      "1/1 [==============================] - 1s 951ms/step - loss: 4.7630 - r2: -3.7630 - mse: 4.7630 - val_loss: 3.4654 - val_r2: -1.3890 - val_mse: 3.4654\n",
      "Epoch 2/200\n",
      "1/1 [==============================] - 0s 65ms/step - loss: 2.2796 - r2: -1.2796 - mse: 2.2796 - val_loss: 1.7180 - val_r2: -0.1844 - val_mse: 1.7180\n",
      "Epoch 3/200\n",
      "1/1 [==============================] - 0s 54ms/step - loss: 1.0510 - r2: -0.0510 - mse: 1.0510 - val_loss: 0.8637 - val_r2: 0.4046 - val_mse: 0.8637\n",
      "Epoch 4/200\n",
      "1/1 [==============================] - 0s 55ms/step - loss: 0.9625 - r2: 0.0375 - mse: 0.9625 - val_loss: 0.5759 - val_r2: 0.6030 - val_mse: 0.5759\n",
      "Epoch 5/200\n",
      "1/1 [==============================] - 0s 52ms/step - loss: 1.3413 - r2: -0.3413 - mse: 1.3413 - val_loss: 0.4728 - val_r2: 0.6741 - val_mse: 0.4728\n",
      "Epoch 6/200\n",
      "1/1 [==============================] - 0s 62ms/step - loss: 1.2719 - r2: -0.2719 - mse: 1.2719 - val_loss: 0.4523 - val_r2: 0.6882 - val_mse: 0.4523\n",
      "Epoch 7/200\n",
      "1/1 [==============================] - 0s 54ms/step - loss: 1.0340 - r2: -0.0340 - mse: 1.0340 - val_loss: 0.4784 - val_r2: 0.6702 - val_mse: 0.4784\n",
      "Epoch 8/200\n",
      "1/1 [==============================] - 0s 43ms/step - loss: 1.2096 - r2: -0.2096 - mse: 1.2096 - val_loss: 0.5092 - val_r2: 0.6490 - val_mse: 0.5092\n",
      "Epoch 9/200\n",
      "1/1 [==============================] - 0s 56ms/step - loss: 0.8403 - r2: 0.1597 - mse: 0.8403 - val_loss: 0.5675 - val_r2: 0.6087 - val_mse: 0.5675\n",
      "Epoch 10/200\n",
      "1/1 [==============================] - 0s 57ms/step - loss: 0.9562 - r2: 0.0438 - mse: 0.9562 - val_loss: 0.6135 - val_r2: 0.5771 - val_mse: 0.6135\n",
      "Epoch 11/200\n",
      "1/1 [==============================] - 0s 54ms/step - loss: 0.8479 - r2: 0.1521 - mse: 0.8479 - val_loss: 0.6892 - val_r2: 0.5249 - val_mse: 0.6892\n",
      "1/1 [==============================] - 0s 64ms/step\n",
      "1/1 [==============================] - 0s 14ms/step\n"
     ]
    }
   ],
   "source": [
    "save_path = f\"../results/{dataset_name}/{data_path}\"\n",
    "if not os.path.exists(f\"{save_path}/results_dict.pickle\"):\n",
    "    results_dict = train_lowcard_models(train_data, val_data, test_data, config, RS=RS, save_results=False,save_path=save_path)\n",
    "else:\n",
    "    with open(f\"{save_path}/results_dict.pickle\", 'rb') as handle:\n",
    "        results_dict = pickle.load(handle)\n",
    "\n",
    "results = results_dict[\"results\"]"
   ]
  },
  {
   "cell_type": "code",
   "execution_count": 16,
   "id": "6136c690",
   "metadata": {
    "scrolled": true
   },
   "outputs": [
    {
     "name": "stdout",
     "output_type": "stream",
     "text": [
      "Load base model\n",
      "Train XGBoost without z features\n",
      "Train Linear Model without z features\n",
      "Train NN without Z features\n",
      "WARNING:tensorflow:Compiled the loaded model, but the compiled metrics have yet to be built. `model.compile_metrics` will be empty until you train or evaluate the model.\n",
      "WARNING:tensorflow:No training configuration found in the save file, so the model was *not* compiled. Compile it manually.\n",
      "Epoch 1/200\n",
      "1/1 [==============================] - 1s 872ms/step - loss: 2.9190 - r2: -1.9190 - mse: 2.9190 - val_loss: 2.4827 - val_r2: -0.7116 - val_mse: 2.4827\n",
      "Epoch 2/200\n",
      "1/1 [==============================] - 0s 48ms/step - loss: 2.6738 - r2: -1.6738 - mse: 2.6738 - val_loss: 2.2742 - val_r2: -0.5679 - val_mse: 2.2742\n",
      "Epoch 3/200\n",
      "1/1 [==============================] - 0s 62ms/step - loss: 2.1714 - r2: -1.1714 - mse: 2.1714 - val_loss: 2.0767 - val_r2: -0.4317 - val_mse: 2.0767\n",
      "Epoch 4/200\n",
      "1/1 [==============================] - 0s 54ms/step - loss: 2.1163 - r2: -1.1163 - mse: 2.1163 - val_loss: 1.8877 - val_r2: -0.3014 - val_mse: 1.8877\n",
      "Epoch 5/200\n",
      "1/1 [==============================] - 0s 53ms/step - loss: 2.4082 - r2: -1.4082 - mse: 2.4082 - val_loss: 1.7065 - val_r2: -0.1764 - val_mse: 1.7065\n",
      "Epoch 6/200\n",
      "1/1 [==============================] - 0s 46ms/step - loss: 1.8817 - r2: -0.8817 - mse: 1.8817 - val_loss: 1.5410 - val_r2: -0.0623 - val_mse: 1.5410\n",
      "Epoch 7/200\n",
      "1/1 [==============================] - 0s 50ms/step - loss: 1.7113 - r2: -0.7113 - mse: 1.7113 - val_loss: 1.3859 - val_r2: 0.0446 - val_mse: 1.3859\n",
      "Epoch 8/200\n",
      "1/1 [==============================] - 0s 56ms/step - loss: 2.0088 - r2: -1.0088 - mse: 2.0088 - val_loss: 1.2458 - val_r2: 0.1411 - val_mse: 1.2458\n",
      "Epoch 9/200\n",
      "1/1 [==============================] - 0s 60ms/step - loss: 1.3473 - r2: -0.3473 - mse: 1.3473 - val_loss: 1.1183 - val_r2: 0.2290 - val_mse: 1.1183\n",
      "Epoch 10/200\n",
      "1/1 [==============================] - 0s 58ms/step - loss: 1.2542 - r2: -0.2542 - mse: 1.2542 - val_loss: 1.0059 - val_r2: 0.3065 - val_mse: 1.0059\n",
      "Epoch 11/200\n",
      "1/1 [==============================] - 0s 58ms/step - loss: 1.3394 - r2: -0.3394 - mse: 1.3394 - val_loss: 0.9072 - val_r2: 0.3746 - val_mse: 0.9072\n",
      "Epoch 12/200\n",
      "1/1 [==============================] - 0s 64ms/step - loss: 1.2478 - r2: -0.2478 - mse: 1.2478 - val_loss: 0.8224 - val_r2: 0.4330 - val_mse: 0.8224\n",
      "Epoch 13/200\n",
      "1/1 [==============================] - 0s 55ms/step - loss: 1.0490 - r2: -0.0490 - mse: 1.0490 - val_loss: 0.7530 - val_r2: 0.4809 - val_mse: 0.7530\n",
      "Epoch 14/200\n",
      "1/1 [==============================] - 0s 53ms/step - loss: 1.1659 - r2: -0.1659 - mse: 1.1659 - val_loss: 0.6971 - val_r2: 0.5194 - val_mse: 0.6971\n",
      "Epoch 15/200\n",
      "1/1 [==============================] - 0s 47ms/step - loss: 0.9201 - r2: 0.0799 - mse: 0.9201 - val_loss: 0.6481 - val_r2: 0.5532 - val_mse: 0.6481\n",
      "Epoch 16/200\n",
      "1/1 [==============================] - 0s 52ms/step - loss: 1.0024 - r2: -0.0024 - mse: 1.0024 - val_loss: 0.6102 - val_r2: 0.5793 - val_mse: 0.6102\n",
      "Epoch 17/200\n",
      "1/1 [==============================] - 0s 55ms/step - loss: 1.2552 - r2: -0.2552 - mse: 1.2552 - val_loss: 0.5824 - val_r2: 0.5985 - val_mse: 0.5824\n",
      "Epoch 18/200\n",
      "1/1 [==============================] - 0s 46ms/step - loss: 0.9924 - r2: 0.0076 - mse: 0.9924 - val_loss: 0.5603 - val_r2: 0.6137 - val_mse: 0.5603\n",
      "Epoch 19/200\n",
      "1/1 [==============================] - 0s 51ms/step - loss: 0.9027 - r2: 0.0973 - mse: 0.9027 - val_loss: 0.5459 - val_r2: 0.6236 - val_mse: 0.5459\n",
      "Epoch 20/200\n",
      "1/1 [==============================] - 0s 48ms/step - loss: 0.8867 - r2: 0.1133 - mse: 0.8867 - val_loss: 0.5392 - val_r2: 0.6283 - val_mse: 0.5392\n",
      "Epoch 21/200\n",
      "1/1 [==============================] - 0s 60ms/step - loss: 0.9333 - r2: 0.0667 - mse: 0.9333 - val_loss: 0.5354 - val_r2: 0.6309 - val_mse: 0.5354\n",
      "Epoch 22/200\n",
      "1/1 [==============================] - 0s 47ms/step - loss: 1.1220 - r2: -0.1220 - mse: 1.1220 - val_loss: 0.5391 - val_r2: 0.6283 - val_mse: 0.5391\n",
      "Epoch 23/200\n",
      "1/1 [==============================] - 0s 47ms/step - loss: 0.9909 - r2: 0.0091 - mse: 0.9909 - val_loss: 0.5477 - val_r2: 0.6224 - val_mse: 0.5477\n",
      "Epoch 24/200\n",
      "1/1 [==============================] - 0s 56ms/step - loss: 1.2189 - r2: -0.2189 - mse: 1.2189 - val_loss: 0.5595 - val_r2: 0.6143 - val_mse: 0.5595\n",
      "Epoch 25/200\n",
      "1/1 [==============================] - 0s 40ms/step - loss: 1.1302 - r2: -0.1302 - mse: 1.1302 - val_loss: 0.5750 - val_r2: 0.6036 - val_mse: 0.5750\n",
      "Epoch 26/200\n",
      "1/1 [==============================] - 0s 46ms/step - loss: 0.8840 - r2: 0.1160 - mse: 0.8840 - val_loss: 0.5913 - val_r2: 0.5924 - val_mse: 0.5913\n",
      "1/1 [==============================] - 0s 64ms/step\n",
      "1/1 [==============================] - 0s 14ms/step\n"
     ]
    }
   ],
   "source": [
    "save_path = f\"../results/{dataset_name}/{data_path}\"\n",
    "if not os.path.exists(f\"{save_path}/results_dict_perfonly.pickle\"):\n",
    "    results_dict_perfonly = train_lowcard_models(train_data_perfonly, val_data_perfonly, test_data_perfonly, config, RS=RS, save_results=False,save_path=save_path)\n",
    "else:\n",
    "    with open(f\"{save_path}/results_dict_perfonly.pickle\", 'rb') as handle:\n",
    "        results_dict_perfonly = pickle.load(handle)\n",
    "\n",
    "results_perfonly = results_dict_perfonly[\"results\"]"
   ]
  },
  {
   "cell_type": "code",
   "execution_count": 12,
   "id": "12efa94c",
   "metadata": {},
   "outputs": [
    {
     "name": "stdout",
     "output_type": "stream",
     "text": [
      "Load base model\n",
      "Train XGBoost without z features\n",
      "Train Linear Model without z features\n",
      "Train NN without Z features\n",
      "WARNING:tensorflow:Compiled the loaded model, but the compiled metrics have yet to be built. `model.compile_metrics` will be empty until you train or evaluate the model.\n",
      "WARNING:tensorflow:No training configuration found in the save file, so the model was *not* compiled. Compile it manually.\n",
      "Epoch 1/200\n",
      "1/1 [==============================] - 1s 1s/step - loss: 4.0812 - r2: -3.0812 - mse: 4.0812 - val_loss: 1.4565 - val_r2: -0.0041 - val_mse: 1.4565\n",
      "Epoch 2/200\n",
      "1/1 [==============================] - 0s 46ms/step - loss: 1.7912 - r2: -0.7912 - mse: 1.7912 - val_loss: 1.0470 - val_r2: 0.2782 - val_mse: 1.0470\n",
      "Epoch 3/200\n",
      "1/1 [==============================] - 0s 38ms/step - loss: 1.2468 - r2: -0.2468 - mse: 1.2468 - val_loss: 0.9218 - val_r2: 0.3645 - val_mse: 0.9218\n",
      "Epoch 4/200\n",
      "1/1 [==============================] - 0s 41ms/step - loss: 1.0910 - r2: -0.0910 - mse: 1.0910 - val_loss: 0.8138 - val_r2: 0.4390 - val_mse: 0.8138\n",
      "Epoch 5/200\n",
      "1/1 [==============================] - 0s 58ms/step - loss: 1.4592 - r2: -0.4592 - mse: 1.4592 - val_loss: 0.7037 - val_r2: 0.5149 - val_mse: 0.7037\n",
      "Epoch 6/200\n",
      "1/1 [==============================] - 0s 48ms/step - loss: 1.1692 - r2: -0.1692 - mse: 1.1692 - val_loss: 0.6949 - val_r2: 0.5209 - val_mse: 0.6949\n",
      "Epoch 7/200\n",
      "1/1 [==============================] - 0s 39ms/step - loss: 0.9689 - r2: 0.0311 - mse: 0.9689 - val_loss: 0.7787 - val_r2: 0.4632 - val_mse: 0.7787\n",
      "Epoch 8/200\n",
      "1/1 [==============================] - 0s 58ms/step - loss: 0.7485 - r2: 0.2515 - mse: 0.7485 - val_loss: 0.9096 - val_r2: 0.3729 - val_mse: 0.9096\n",
      "Epoch 9/200\n",
      "1/1 [==============================] - 0s 38ms/step - loss: 1.0169 - r2: -0.0169 - mse: 1.0169 - val_loss: 1.0318 - val_r2: 0.2887 - val_mse: 1.0318\n",
      "Epoch 10/200\n",
      "1/1 [==============================] - 0s 52ms/step - loss: 0.8880 - r2: 0.1120 - mse: 0.8880 - val_loss: 1.0810 - val_r2: 0.2547 - val_mse: 1.0810\n",
      "Epoch 11/200\n",
      "1/1 [==============================] - 0s 58ms/step - loss: 0.7070 - r2: 0.2930 - mse: 0.7070 - val_loss: 1.0921 - val_r2: 0.2471 - val_mse: 1.0921\n",
      "1/1 [==============================] - 0s 62ms/step\n",
      "1/1 [==============================] - 0s 19ms/step\n"
     ]
    }
   ],
   "source": [
    "save_path = f\"../results/{dataset_name}/{data_path}\"\n",
    "if not os.path.exists(f\"{save_path}/results_dict_noperf.pickle\"):\n",
    "    results_dict_noperf = train_lowcard_models(train_data_noperf, val_data_noperf, test_data_noperf, config, RS=RS, save_results=False,save_path=save_path)\n",
    "else:\n",
    "    with open(f\"{save_path}/results_dict.pickle_noperf\", 'rb') as handle:\n",
    "        results_dict_noperf = pickle.load(handle)\n",
    "\n",
    "results_noperf = results_dict_noperf[\"results\"]"
   ]
  },
  {
   "cell_type": "markdown",
   "id": "965d4ef4",
   "metadata": {},
   "source": [
    "## Evaluation"
   ]
  },
  {
   "cell_type": "markdown",
   "id": "ed0059ea",
   "metadata": {},
   "source": [
    "### Performance on whole data"
   ]
  },
  {
   "cell_type": "code",
   "execution_count": 18,
   "id": "3ad179fc",
   "metadata": {},
   "outputs": [],
   "source": [
    "models_use = [\"LR\", \"XGB\", \"NN\"]"
   ]
  },
  {
   "cell_type": "code",
   "execution_count": 19,
   "id": "b9143abe",
   "metadata": {},
   "outputs": [],
   "source": [
    "results_df = pd.DataFrame(results).transpose().loc[models_use].sort_values(\"MSE Test\",ascending=False).round(4)\n"
   ]
  },
  {
   "cell_type": "code",
   "execution_count": 20,
   "id": "27893142",
   "metadata": {},
   "outputs": [
    {
     "data": {
      "text/html": [
       "<style type=\"text/css\">\n",
       "#T_a1c1e_row2_col0, #T_a1c1e_row2_col1, #T_a1c1e_row2_col2, #T_a1c1e_row2_col3 {\n",
       "  background-color: lightgreen;\n",
       "}\n",
       "</style>\n",
       "<table id=\"T_a1c1e\">\n",
       "  <thead>\n",
       "    <tr>\n",
       "      <th class=\"blank level0\" >&nbsp;</th>\n",
       "      <th id=\"T_a1c1e_level0_col0\" class=\"col_heading level0 col0\" >MSE Train</th>\n",
       "      <th id=\"T_a1c1e_level0_col1\" class=\"col_heading level0 col1\" >R2 Train</th>\n",
       "      <th id=\"T_a1c1e_level0_col2\" class=\"col_heading level0 col2\" >MSE Test</th>\n",
       "      <th id=\"T_a1c1e_level0_col3\" class=\"col_heading level0 col3\" >R2 Test</th>\n",
       "    </tr>\n",
       "  </thead>\n",
       "  <tbody>\n",
       "    <tr>\n",
       "      <th id=\"T_a1c1e_level0_row0\" class=\"row_heading level0 row0\" >LR</th>\n",
       "      <td id=\"T_a1c1e_row0_col0\" class=\"data row0 col0\" >0.190700</td>\n",
       "      <td id=\"T_a1c1e_row0_col1\" class=\"data row0 col1\" >0.809300</td>\n",
       "      <td id=\"T_a1c1e_row0_col2\" class=\"data row0 col2\" >1347749.750000</td>\n",
       "      <td id=\"T_a1c1e_row0_col3\" class=\"data row0 col3\" >-2069905.728000</td>\n",
       "    </tr>\n",
       "    <tr>\n",
       "      <th id=\"T_a1c1e_level0_row1\" class=\"row_heading level0 row1\" >NN</th>\n",
       "      <td id=\"T_a1c1e_row1_col0\" class=\"data row1 col0\" >0.400000</td>\n",
       "      <td id=\"T_a1c1e_row1_col1\" class=\"data row1 col1\" >0.600000</td>\n",
       "      <td id=\"T_a1c1e_row1_col2\" class=\"data row1 col2\" >0.988300</td>\n",
       "      <td id=\"T_a1c1e_row1_col3\" class=\"data row1 col3\" >-0.517800</td>\n",
       "    </tr>\n",
       "    <tr>\n",
       "      <th id=\"T_a1c1e_level0_row2\" class=\"row_heading level0 row2\" >XGB</th>\n",
       "      <td id=\"T_a1c1e_row2_col0\" class=\"data row2 col0\" >0.000000</td>\n",
       "      <td id=\"T_a1c1e_row2_col1\" class=\"data row2 col1\" >1.000000</td>\n",
       "      <td id=\"T_a1c1e_row2_col2\" class=\"data row2 col2\" >0.506400</td>\n",
       "      <td id=\"T_a1c1e_row2_col3\" class=\"data row2 col3\" >0.222300</td>\n",
       "    </tr>\n",
       "  </tbody>\n",
       "</table>\n"
      ],
      "text/plain": [
       "<pandas.io.formats.style.Styler at 0x1c112e9dbb0>"
      ]
     },
     "execution_count": 20,
     "metadata": {},
     "output_type": "execute_result"
    }
   ],
   "source": [
    "results_df[[\"MSE Train\", \"R2 Train\", \"MSE Test\", \"R2 Test\"]].style.highlight_min(subset=[\"MSE Train\", \"MSE Test\"], color = 'lightgreen', axis = 0).highlight_max(subset=[\"R2 Train\", \"R2 Test\"], color = 'lightgreen', axis = 0)"
   ]
  },
  {
   "cell_type": "markdown",
   "id": "9d9e3dc5",
   "metadata": {},
   "source": [
    "### Modeling results only with previous performance"
   ]
  },
  {
   "cell_type": "code",
   "execution_count": 22,
   "id": "375f6f57",
   "metadata": {},
   "outputs": [],
   "source": [
    "results_df_perfonly = pd.DataFrame(results_perfonly).transpose().loc[models_use].sort_values(\"MSE Test\",ascending=False).round(4)\n"
   ]
  },
  {
   "cell_type": "code",
   "execution_count": 23,
   "id": "42630363",
   "metadata": {},
   "outputs": [
    {
     "data": {
      "text/html": [
       "<style type=\"text/css\">\n",
       "#T_97eea_row1_col0, #T_97eea_row1_col1, #T_97eea_row2_col2, #T_97eea_row2_col3 {\n",
       "  background-color: lightgreen;\n",
       "}\n",
       "</style>\n",
       "<table id=\"T_97eea\">\n",
       "  <thead>\n",
       "    <tr>\n",
       "      <th class=\"blank level0\" >&nbsp;</th>\n",
       "      <th id=\"T_97eea_level0_col0\" class=\"col_heading level0 col0\" >MSE Train</th>\n",
       "      <th id=\"T_97eea_level0_col1\" class=\"col_heading level0 col1\" >R2 Train</th>\n",
       "      <th id=\"T_97eea_level0_col2\" class=\"col_heading level0 col2\" >MSE Test</th>\n",
       "      <th id=\"T_97eea_level0_col3\" class=\"col_heading level0 col3\" >R2 Test</th>\n",
       "    </tr>\n",
       "  </thead>\n",
       "  <tbody>\n",
       "    <tr>\n",
       "      <th id=\"T_97eea_level0_row0\" class=\"row_heading level0 row0\" >NN</th>\n",
       "      <td id=\"T_97eea_row0_col0\" class=\"data row0 col0\" >0.609600</td>\n",
       "      <td id=\"T_97eea_row0_col1\" class=\"data row0 col1\" >0.390400</td>\n",
       "      <td id=\"T_97eea_row0_col2\" class=\"data row0 col2\" >0.596100</td>\n",
       "      <td id=\"T_97eea_row0_col3\" class=\"data row0 col3\" >0.084500</td>\n",
       "    </tr>\n",
       "    <tr>\n",
       "      <th id=\"T_97eea_level0_row1\" class=\"row_heading level0 row1\" >XGB</th>\n",
       "      <td id=\"T_97eea_row1_col0\" class=\"data row1 col0\" >0.437100</td>\n",
       "      <td id=\"T_97eea_row1_col1\" class=\"data row1 col1\" >0.562900</td>\n",
       "      <td id=\"T_97eea_row1_col2\" class=\"data row1 col2\" >0.374200</td>\n",
       "      <td id=\"T_97eea_row1_col3\" class=\"data row1 col3\" >0.425300</td>\n",
       "    </tr>\n",
       "    <tr>\n",
       "      <th id=\"T_97eea_level0_row2\" class=\"row_heading level0 row2\" >LR</th>\n",
       "      <td id=\"T_97eea_row2_col0\" class=\"data row2 col0\" >0.462600</td>\n",
       "      <td id=\"T_97eea_row2_col1\" class=\"data row2 col1\" >0.537500</td>\n",
       "      <td id=\"T_97eea_row2_col2\" class=\"data row2 col2\" >0.360000</td>\n",
       "      <td id=\"T_97eea_row2_col3\" class=\"data row2 col3\" >0.447200</td>\n",
       "    </tr>\n",
       "  </tbody>\n",
       "</table>\n"
      ],
      "text/plain": [
       "<pandas.io.formats.style.Styler at 0x1c1142ab130>"
      ]
     },
     "execution_count": 23,
     "metadata": {},
     "output_type": "execute_result"
    }
   ],
   "source": [
    "results_df_perfonly[[\"MSE Train\", \"R2 Train\", \"MSE Test\", \"R2 Test\"]].style.highlight_min(subset=[\"MSE Train\", \"MSE Test\"], color = 'lightgreen', axis = 0).highlight_max(subset=[\"R2 Train\", \"R2 Test\"], color = 'lightgreen', axis = 0)"
   ]
  },
  {
   "cell_type": "markdown",
   "id": "5dafe025",
   "metadata": {},
   "source": [
    "### Modeling results without previous performance"
   ]
  },
  {
   "cell_type": "code",
   "execution_count": 24,
   "id": "e322dd30",
   "metadata": {},
   "outputs": [],
   "source": [
    "results_df_noperf = pd.DataFrame(results_noperf).transpose().loc[models_use].sort_values(\"MSE Test\",ascending=False).round(4)\n"
   ]
  },
  {
   "cell_type": "code",
   "execution_count": 25,
   "id": "eb4f234b",
   "metadata": {},
   "outputs": [
    {
     "data": {
      "text/html": [
       "<style type=\"text/css\">\n",
       "#T_88c77_row2_col0, #T_88c77_row2_col1, #T_88c77_row2_col2, #T_88c77_row2_col3 {\n",
       "  background-color: lightgreen;\n",
       "}\n",
       "</style>\n",
       "<table id=\"T_88c77\">\n",
       "  <thead>\n",
       "    <tr>\n",
       "      <th class=\"blank level0\" >&nbsp;</th>\n",
       "      <th id=\"T_88c77_level0_col0\" class=\"col_heading level0 col0\" >MSE Train</th>\n",
       "      <th id=\"T_88c77_level0_col1\" class=\"col_heading level0 col1\" >R2 Train</th>\n",
       "      <th id=\"T_88c77_level0_col2\" class=\"col_heading level0 col2\" >MSE Test</th>\n",
       "      <th id=\"T_88c77_level0_col3\" class=\"col_heading level0 col3\" >R2 Test</th>\n",
       "    </tr>\n",
       "  </thead>\n",
       "  <tbody>\n",
       "    <tr>\n",
       "      <th id=\"T_88c77_level0_row0\" class=\"row_heading level0 row0\" >LR</th>\n",
       "      <td id=\"T_88c77_row0_col0\" class=\"data row0 col0\" >0.243100</td>\n",
       "      <td id=\"T_88c77_row0_col1\" class=\"data row0 col1\" >0.756900</td>\n",
       "      <td id=\"T_88c77_row0_col2\" class=\"data row0 col2\" >4670.192900</td>\n",
       "      <td id=\"T_88c77_row0_col3\" class=\"data row0 col3\" >-7171.595200</td>\n",
       "    </tr>\n",
       "    <tr>\n",
       "      <th id=\"T_88c77_level0_row1\" class=\"row_heading level0 row1\" >NN</th>\n",
       "      <td id=\"T_88c77_row1_col0\" class=\"data row1 col0\" >0.586800</td>\n",
       "      <td id=\"T_88c77_row1_col1\" class=\"data row1 col1\" >0.413200</td>\n",
       "      <td id=\"T_88c77_row1_col2\" class=\"data row1 col2\" >0.918400</td>\n",
       "      <td id=\"T_88c77_row1_col3\" class=\"data row1 col3\" >-0.410500</td>\n",
       "    </tr>\n",
       "    <tr>\n",
       "      <th id=\"T_88c77_level0_row2\" class=\"row_heading level0 row2\" >XGB</th>\n",
       "      <td id=\"T_88c77_row2_col0\" class=\"data row2 col0\" >0.000000</td>\n",
       "      <td id=\"T_88c77_row2_col1\" class=\"data row2 col1\" >1.000000</td>\n",
       "      <td id=\"T_88c77_row2_col2\" class=\"data row2 col2\" >0.511600</td>\n",
       "      <td id=\"T_88c77_row2_col3\" class=\"data row2 col3\" >0.214300</td>\n",
       "    </tr>\n",
       "  </tbody>\n",
       "</table>\n"
      ],
      "text/plain": [
       "<pandas.io.formats.style.Styler at 0x1c114291640>"
      ]
     },
     "execution_count": 25,
     "metadata": {},
     "output_type": "execute_result"
    }
   ],
   "source": [
    "results_df_noperf[[\"MSE Train\", \"R2 Train\", \"MSE Test\", \"R2 Test\"]].style.highlight_min(subset=[\"MSE Train\", \"MSE Test\"], color = 'lightgreen', axis = 0).highlight_max(subset=[\"R2 Train\", \"R2 Test\"], color = 'lightgreen', axis = 0)"
   ]
  },
  {
   "cell_type": "code",
   "execution_count": null,
   "id": "c18f9b12",
   "metadata": {},
   "outputs": [],
   "source": []
  }
 ],
 "metadata": {
  "kernelspec": {
   "display_name": "Python 3 (ipykernel)",
   "language": "python",
   "name": "python3"
  },
  "language_info": {
   "codemirror_mode": {
    "name": "ipython",
    "version": 3
   },
   "file_extension": ".py",
   "mimetype": "text/x-python",
   "name": "python",
   "nbconvert_exporter": "python",
   "pygments_lexer": "ipython3",
   "version": "3.9.12"
  },
  "vscode": {
   "interpreter": {
    "hash": "dc07112e7ae1e8e28a0232207620ff002934c05692de8df42430404c766a0a8a"
   }
  }
 },
 "nbformat": 4,
 "nbformat_minor": 5
}
